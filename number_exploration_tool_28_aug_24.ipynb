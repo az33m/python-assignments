{
 "cells": [
  {
   "cell_type": "code",
   "execution_count": 57,
   "metadata": {},
   "outputs": [],
   "source": [
    "name = input('Enter your name:');\n",
    "\n",
    "firstNum = int(input('Enter your first favorite number:'));\n",
    "secondNum = int(input('Enter your second favorite number:'));\n",
    "thirdNum = int(input('Enter your third favorite number:'));\n",
    "\n",
    "numsList = [firstNum, secondNum, thirdNum]"
   ]
  },
  {
   "cell_type": "code",
   "execution_count": 62,
   "metadata": {},
   "outputs": [
    {
     "name": "stdout",
     "output_type": "stream",
     "text": [
      "Hello, aLI! Let's explore your favorite numbers:\n",
      "The number 1 is odd.\n",
      "The number 5 is odd.\n",
      "The number 9 is odd.\n",
      "The number 1 and its square: (1, 1)\n",
      "The number 5 and its square: (5, 25)\n",
      "The number 9 and its square: (9, 81)\n",
      "\n",
      "Amazing! The sum of your favorite numbers is: 15\n",
      "15 is not a prime number!\n"
     ]
    }
   ],
   "source": [
    "print(\"Hello, %s! Let's explore your favorite numbers:\" % name)\n",
    "evenOddList = []\n",
    "for i in numsList:\n",
    "    if(i%2==0):\n",
    "        evenOddList.append('The number %d is even.' % i)\n",
    "    else:\n",
    "        evenOddList.append('The number %d is odd.' % i)\n",
    "\n",
    "# Assign list to tuple\n",
    "evenOddTuple = (evenOddList)\n",
    "for i in evenOddTuple:\n",
    "    print(i)\n",
    "    \n",
    "\n",
    "for i in numsList:\n",
    "    print('The number %d and its square: (%d, %d)' %(i, i, i**2))\n",
    "\n",
    "numbersSum = firstNum + secondNum + thirdNum;\n",
    "print('\\nAmazing! The sum of your favorite numbers is: %d' % numbersSum)\n",
    "\n",
    "isPrime = False\n",
    "\n",
    "if numbersSum < 2:\n",
    "    print(numbersSum, 'is not a prime number!')\n",
    "else:\n",
    "    for i in range(2, numbersSum):\n",
    "        if numbersSum % i == 0:\n",
    "            isPrime = True\n",
    "            break\n",
    "\n",
    "    if(isPrime):\n",
    "        print('%d is not a prime number!' % numbersSum)\n",
    "    else:\n",
    "        print('Wow, %d is a prime number!' % numbersSum)"
   ]
  }
 ],
 "metadata": {
  "kernelspec": {
   "display_name": "Python 3",
   "language": "python",
   "name": "python3"
  },
  "language_info": {
   "codemirror_mode": {
    "name": "ipython",
    "version": 3
   },
   "file_extension": ".py",
   "mimetype": "text/x-python",
   "name": "python",
   "nbconvert_exporter": "python",
   "pygments_lexer": "ipython3",
   "version": "3.12.4"
  }
 },
 "nbformat": 4,
 "nbformat_minor": 2
}
